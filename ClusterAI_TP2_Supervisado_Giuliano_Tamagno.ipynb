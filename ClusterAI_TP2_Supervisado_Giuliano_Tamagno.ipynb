{
 "cells": [
  {
   "cell_type": "markdown",
   "metadata": {
    "id": "P3ANPsbtkuXj"
   },
   "source": [
    "## **Trabajo Práctico Individual n° 2: Aprendizaje Supervisado**\n",
    "____\n",
    "__Universidad Tecnológica Nacional, Buenos Aires__\\\n",
    "__Ingeniería Industrial__\\\n",
    "__Ciencia de Datos - Curso I5521__\n",
    "____"
   ]
  },
  {
   "cell_type": "markdown",
   "metadata": {
    "id": "cTPsPHb_lWTE"
   },
   "source": [
    "- Nombre: Giuliano\n",
    "- Apellido: Tamagno\n",
    "- Legajo: 1681989"
   ]
  },
  {
   "cell_type": "markdown",
   "metadata": {
    "id": "E5W-65MskuXx"
   },
   "source": [
    "En este trabajo práctico aplicaremos algunas técnicas aprendidas para el aprendizaje automático supervisado.\n",
    "\n",
    "Utilizaremos un dataset de airbnb donde buscaremos predecir el precio de las noches de cada hogar en funcion de algunas variables."
   ]
  },
  {
   "cell_type": "markdown",
   "metadata": {
    "id": "mKUpHSLqkuXz"
   },
   "source": [
    "#### Variables:\n",
    "- Unnamed: 0: Variable de contador de registros (no será utilizada en nuetro análisis)\n",
    "- neighbourhood: Barrio donde se encuentra ubicado la casa.\n",
    "- room_type: Tipo de hogar en alquiler.\n",
    "- price: Precio por noche.\n",
    "- minimum_nights: Cantidad minimas de noches que pueden alquilar el hogar.\n",
    "- number_of_reviews: Cantidad de reviews\n",
    "- reviews_per_month: Tasa de reviews que tienen por mes\n",
    "- calculated_host_listings_count: Cantidad de hogares ofrecidos por el host.\n",
    "- availability_365: Cantidad de dias que se encuentra en alquiler el hogar"
   ]
  },
  {
   "cell_type": "markdown",
   "metadata": {
    "id": "hWk9Vqs8l5jg"
   },
   "source": [
    "## **Objetivos del trabajo practico**\n",
    "- resolver los requisitos que se detallan en las proximas celdas\n",
    "- dejar comentarios # en cada linea de codigo que se agregue\n",
    "- fecha limite de entrega: 13 de Octubre 2022 a las 23h59"
   ]
  },
  {
   "cell_type": "code",
   "execution_count": 1,
   "metadata": {
    "id": "7VzMW3fvkuX0"
   },
   "outputs": [],
   "source": [
    "## Importo librerías de maniupulación de datos\n",
    "import pandas as pd\n",
    "import numpy as np\n",
    "import seaborn as sns\n",
    "import matplotlib.pyplot as plt"
   ]
  },
  {
   "cell_type": "code",
   "execution_count": 2,
   "metadata": {
    "id": "NFgDAUVLNfhE"
   },
   "outputs": [],
   "source": [
    "## Importo librerías de Aprendizaje automático\n",
    "from sklearn import preprocessing\n",
    "from sklearn import linear_model\n",
    "from sklearn.model_selection import train_test_split, cross_val_score\n",
    "from sklearn.metrics import r2_score, mean_squared_error\n",
    "from sklearn.utils import shuffle\n",
    "from sklearn.preprocessing import StandardScaler\n",
    "from sklearn import preprocessing\n",
    "from sklearn.preprocessing import LabelEncoder\n",
    "from sklearn.linear_model import LinearRegression\n",
    "from sklearn.svm import SVR, LinearSVR\n",
    "from sklearn.metrics import mean_squared_error, make_scorer\n",
    "from sklearn.model_selection import GridSearchCV"
   ]
  },
  {
   "cell_type": "markdown",
   "metadata": {
    "id": "v7h4SOeAkuX4"
   },
   "source": [
    "##### **Objetivo 1**\n",
    "Lo primero que deberan hacer será importar\n",
    "- el dataset bajo en nombre \"london\"\n",
    "- corroborar que lo hayamos cargado correctamente."
   ]
  },
  {
   "cell_type": "code",
   "execution_count": 3,
   "metadata": {
    "id": "2EOIgMedmgBM",
    "scrolled": false
   },
   "outputs": [
    {
     "name": "stdout",
     "output_type": "stream",
     "text": [
      " El volumen de la unidad C no tiene etiqueta.\n",
      " El n£mero de serie del volumen es: F8A7-C01C\n",
      "\n",
      " Directorio de C:\\Users\\Giuliano\\UTN.BA\\UT¥o¤os - General\\5to A¤o\\Ciencia de datos\\TP2\n",
      "\n",
      "05/11/2022  07:46 p. m.    <DIR>          .\n",
      "05/11/2022  07:46 p. m.    <DIR>          ..\n",
      "05/11/2022  07:44 p. m.    <DIR>          .ipynb_checkpoints\n",
      "05/11/2022  07:32 p. m.            78,416 ClusterAI_TP2_Supervisado_Giuliano_Tamagno.ipynb\n",
      "05/11/2022  07:44 p. m.            65,103 ClusterAI_TP2_Supervisado_Giuliano_Tamagno-Copy1.ipynb\n",
      "05/11/2022  07:46 p. m.            64,575 ClusterAI_TP2_Supervisado_Giuliano_Tamagno-Copy2.ipynb\n",
      "03/11/2022  04:35 p. m.            12,508 ClusterAI_TP2_Supervisado_nombre_apellido (1).ipynb\n",
      "22/10/2022  11:36 a. m.         2,640,367 TP2_airbnb_london.csv\n",
      "               5 archivos      2,860,969 bytes\n",
      "               3 dirs  135,267,835,904 bytes libres\n"
     ]
    }
   ],
   "source": [
    "ls"
   ]
  },
  {
   "cell_type": "code",
   "execution_count": 4,
   "metadata": {},
   "outputs": [
    {
     "data": {
      "text/html": [
       "<div>\n",
       "<style scoped>\n",
       "    .dataframe tbody tr th:only-of-type {\n",
       "        vertical-align: middle;\n",
       "    }\n",
       "\n",
       "    .dataframe tbody tr th {\n",
       "        vertical-align: top;\n",
       "    }\n",
       "\n",
       "    .dataframe thead th {\n",
       "        text-align: right;\n",
       "    }\n",
       "</style>\n",
       "<table border=\"1\" class=\"dataframe\">\n",
       "  <thead>\n",
       "    <tr style=\"text-align: right;\">\n",
       "      <th></th>\n",
       "      <th>Unnamed: 0</th>\n",
       "      <th>neighbourhood</th>\n",
       "      <th>room_type</th>\n",
       "      <th>price</th>\n",
       "      <th>minimum_nights</th>\n",
       "      <th>number_of_reviews</th>\n",
       "      <th>reviews_per_month</th>\n",
       "      <th>calculated_host_listings_count</th>\n",
       "      <th>availability_365</th>\n",
       "    </tr>\n",
       "  </thead>\n",
       "  <tbody>\n",
       "    <tr>\n",
       "      <th>0</th>\n",
       "      <td>0</td>\n",
       "      <td>Haringey</td>\n",
       "      <td>Private room</td>\n",
       "      <td>35</td>\n",
       "      <td>1</td>\n",
       "      <td>131</td>\n",
       "      <td>1.71</td>\n",
       "      <td>4</td>\n",
       "      <td>262</td>\n",
       "    </tr>\n",
       "    <tr>\n",
       "      <th>1</th>\n",
       "      <td>1</td>\n",
       "      <td>Ealing</td>\n",
       "      <td>Private room</td>\n",
       "      <td>70</td>\n",
       "      <td>2</td>\n",
       "      <td>2</td>\n",
       "      <td>0.07</td>\n",
       "      <td>6</td>\n",
       "      <td>62</td>\n",
       "    </tr>\n",
       "    <tr>\n",
       "      <th>2</th>\n",
       "      <td>2</td>\n",
       "      <td>Islington</td>\n",
       "      <td>Private room</td>\n",
       "      <td>45</td>\n",
       "      <td>1</td>\n",
       "      <td>14</td>\n",
       "      <td>0.14</td>\n",
       "      <td>2</td>\n",
       "      <td>364</td>\n",
       "    </tr>\n",
       "    <tr>\n",
       "      <th>3</th>\n",
       "      <td>5</td>\n",
       "      <td>Tower Hamlets</td>\n",
       "      <td>Entire home/apt</td>\n",
       "      <td>102</td>\n",
       "      <td>5</td>\n",
       "      <td>7</td>\n",
       "      <td>0.07</td>\n",
       "      <td>56</td>\n",
       "      <td>295</td>\n",
       "    </tr>\n",
       "    <tr>\n",
       "      <th>4</th>\n",
       "      <td>6</td>\n",
       "      <td>Barnet</td>\n",
       "      <td>Private room</td>\n",
       "      <td>29</td>\n",
       "      <td>5</td>\n",
       "      <td>114</td>\n",
       "      <td>1.13</td>\n",
       "      <td>3</td>\n",
       "      <td>285</td>\n",
       "    </tr>\n",
       "  </tbody>\n",
       "</table>\n",
       "</div>"
      ],
      "text/plain": [
       "   Unnamed: 0  neighbourhood        room_type  price  minimum_nights  \\\n",
       "0           0       Haringey     Private room     35               1   \n",
       "1           1         Ealing     Private room     70               2   \n",
       "2           2      Islington     Private room     45               1   \n",
       "3           5  Tower Hamlets  Entire home/apt    102               5   \n",
       "4           6         Barnet     Private room     29               5   \n",
       "\n",
       "   number_of_reviews  reviews_per_month  calculated_host_listings_count  \\\n",
       "0                131               1.71                               4   \n",
       "1                  2               0.07                               6   \n",
       "2                 14               0.14                               2   \n",
       "3                  7               0.07                              56   \n",
       "4                114               1.13                               3   \n",
       "\n",
       "   availability_365  \n",
       "0               262  \n",
       "1                62  \n",
       "2               364  \n",
       "3               295  \n",
       "4               285  "
      ]
     },
     "execution_count": 4,
     "metadata": {},
     "output_type": "execute_result"
    }
   ],
   "source": [
    "## Cargo el csv al notebook y corroboro que se hay cargado correctamente\n",
    "\n",
    "london = pd.read_csv(\"TP2_airbnb_london.csv\")\n",
    "london.head()"
   ]
  },
  {
   "cell_type": "markdown",
   "metadata": {
    "id": "LFZY1u8XkuX5"
   },
   "source": [
    "##### **Objetivo 2**\n",
    "Ahora imprimir también las dimensiones del dataset y eliminar la variable \"Unnamed:0\" del dataset.\n",
    "Volver a guardar el dataset sin esta variable bajo el nombre \"london\" "
   ]
  },
  {
   "cell_type": "code",
   "execution_count": 5,
   "metadata": {
    "id": "V6WzWe1JkuX7"
   },
   "outputs": [
    {
     "name": "stdout",
     "output_type": "stream",
     "text": [
      "<class 'pandas.core.frame.DataFrame'>\n",
      "RangeIndex: 51827 entries, 0 to 51826\n",
      "Data columns (total 8 columns):\n",
      " #   Column                          Non-Null Count  Dtype  \n",
      "---  ------                          --------------  -----  \n",
      " 0   neighbourhood                   51827 non-null  object \n",
      " 1   room_type                       51827 non-null  object \n",
      " 2   price                           51827 non-null  int64  \n",
      " 3   minimum_nights                  51827 non-null  int64  \n",
      " 4   number_of_reviews               51827 non-null  int64  \n",
      " 5   reviews_per_month               51827 non-null  float64\n",
      " 6   calculated_host_listings_count  51827 non-null  int64  \n",
      " 7   availability_365                51827 non-null  int64  \n",
      "dtypes: float64(1), int64(5), object(2)\n",
      "memory usage: 3.2+ MB\n"
     ]
    }
   ],
   "source": [
    "#Eliminamos columnas que no nos interesan y chequeo que se haya eliminado\n",
    "\n",
    "london = london.drop(['Unnamed: 0'],axis=1)\n",
    "london.info()"
   ]
  },
  {
   "cell_type": "markdown",
   "metadata": {
    "id": "i6rbeiRvkuX8"
   },
   "source": [
    "##### **Objetivo 3**\n",
    "Corroborar que el dataset no cuenta con valores nulos, si los hubiera llenarlos todos con 0."
   ]
  },
  {
   "cell_type": "code",
   "execution_count": 6,
   "metadata": {
    "id": "huJVDzyTkuX8",
    "scrolled": true
   },
   "outputs": [
    {
     "data": {
      "text/plain": [
       "neighbourhood                     0\n",
       "room_type                         0\n",
       "price                             0\n",
       "minimum_nights                    0\n",
       "number_of_reviews                 0\n",
       "reviews_per_month                 0\n",
       "calculated_host_listings_count    0\n",
       "availability_365                  0\n",
       "dtype: int64"
      ]
     },
     "execution_count": 6,
     "metadata": {},
     "output_type": "execute_result"
    }
   ],
   "source": [
    "london.isnull().sum()"
   ]
  },
  {
   "cell_type": "code",
   "execution_count": 7,
   "metadata": {},
   "outputs": [],
   "source": [
    "## Como no hay valores nulos, no hago cambios"
   ]
  },
  {
   "cell_type": "markdown",
   "metadata": {
    "id": "J5K3hnLhkuX9"
   },
   "source": [
    "##### **Objetivo 4**\n",
    "Mostrar el tipo de dato para las variables \"neighbourhood\" y \"room_type\"."
   ]
  },
  {
   "cell_type": "code",
   "execution_count": 8,
   "metadata": {
    "id": "buyjxSDNkuX-",
    "scrolled": true
   },
   "outputs": [
    {
     "name": "stdout",
     "output_type": "stream",
     "text": [
      "<class 'pandas.core.frame.DataFrame'>\n",
      "RangeIndex: 51827 entries, 0 to 51826\n",
      "Data columns (total 8 columns):\n",
      " #   Column                          Non-Null Count  Dtype  \n",
      "---  ------                          --------------  -----  \n",
      " 0   neighbourhood                   51827 non-null  object \n",
      " 1   room_type                       51827 non-null  object \n",
      " 2   price                           51827 non-null  int64  \n",
      " 3   minimum_nights                  51827 non-null  int64  \n",
      " 4   number_of_reviews               51827 non-null  int64  \n",
      " 5   reviews_per_month               51827 non-null  float64\n",
      " 6   calculated_host_listings_count  51827 non-null  int64  \n",
      " 7   availability_365                51827 non-null  int64  \n",
      "dtypes: float64(1), int64(5), object(2)\n",
      "memory usage: 3.2+ MB\n"
     ]
    }
   ],
   "source": [
    "## Muestro el tipo de datos de todas la variables\n",
    "london.info()"
   ]
  },
  {
   "cell_type": "code",
   "execution_count": 9,
   "metadata": {},
   "outputs": [],
   "source": [
    "## Las variables \"neighbourhood\" y \"room_type\" son objetos"
   ]
  },
  {
   "cell_type": "markdown",
   "metadata": {
    "id": "-Pif7gnqkuX-"
   },
   "source": [
    "##### **Objetivo 5**\n",
    "Generar las variables dummies para estas dos variables categóricas y unirlas al dataset london.\n"
   ]
  },
  {
   "cell_type": "code",
   "execution_count": 10,
   "metadata": {
    "id": "WQ2GszPKNfhI"
   },
   "outputs": [],
   "source": [
    "## Genero las dummies para la variable neighbourhood, dentro de la variable neigh_dummies.\n",
    "neigh_dummies = pd.get_dummies(london['neighbourhood'] )"
   ]
  },
  {
   "cell_type": "markdown",
   "metadata": {
    "id": "D9raTKcGNfhJ"
   },
   "source": [
    "Imprimir las dimensiones y primeras lineas de estas dummies"
   ]
  },
  {
   "cell_type": "code",
   "execution_count": 11,
   "metadata": {
    "id": "x5aYhwWcNfhJ"
   },
   "outputs": [
    {
     "data": {
      "text/plain": [
       "(51827, 33)"
      ]
     },
     "execution_count": 11,
     "metadata": {},
     "output_type": "execute_result"
    }
   ],
   "source": [
    "neigh_dummies.shape"
   ]
  },
  {
   "cell_type": "code",
   "execution_count": 12,
   "metadata": {
    "id": "ehoVgr9NNfhJ"
   },
   "outputs": [
    {
     "data": {
      "text/html": [
       "<div>\n",
       "<style scoped>\n",
       "    .dataframe tbody tr th:only-of-type {\n",
       "        vertical-align: middle;\n",
       "    }\n",
       "\n",
       "    .dataframe tbody tr th {\n",
       "        vertical-align: top;\n",
       "    }\n",
       "\n",
       "    .dataframe thead th {\n",
       "        text-align: right;\n",
       "    }\n",
       "</style>\n",
       "<table border=\"1\" class=\"dataframe\">\n",
       "  <thead>\n",
       "    <tr style=\"text-align: right;\">\n",
       "      <th></th>\n",
       "      <th>Barking and Dagenham</th>\n",
       "      <th>Barnet</th>\n",
       "      <th>Bexley</th>\n",
       "      <th>Brent</th>\n",
       "      <th>Bromley</th>\n",
       "      <th>Camden</th>\n",
       "      <th>City of London</th>\n",
       "      <th>Croydon</th>\n",
       "      <th>Ealing</th>\n",
       "      <th>Enfield</th>\n",
       "      <th>...</th>\n",
       "      <th>Merton</th>\n",
       "      <th>Newham</th>\n",
       "      <th>Redbridge</th>\n",
       "      <th>Richmond upon Thames</th>\n",
       "      <th>Southwark</th>\n",
       "      <th>Sutton</th>\n",
       "      <th>Tower Hamlets</th>\n",
       "      <th>Waltham Forest</th>\n",
       "      <th>Wandsworth</th>\n",
       "      <th>Westminster</th>\n",
       "    </tr>\n",
       "  </thead>\n",
       "  <tbody>\n",
       "    <tr>\n",
       "      <th>0</th>\n",
       "      <td>0</td>\n",
       "      <td>0</td>\n",
       "      <td>0</td>\n",
       "      <td>0</td>\n",
       "      <td>0</td>\n",
       "      <td>0</td>\n",
       "      <td>0</td>\n",
       "      <td>0</td>\n",
       "      <td>0</td>\n",
       "      <td>0</td>\n",
       "      <td>...</td>\n",
       "      <td>0</td>\n",
       "      <td>0</td>\n",
       "      <td>0</td>\n",
       "      <td>0</td>\n",
       "      <td>0</td>\n",
       "      <td>0</td>\n",
       "      <td>0</td>\n",
       "      <td>0</td>\n",
       "      <td>0</td>\n",
       "      <td>0</td>\n",
       "    </tr>\n",
       "    <tr>\n",
       "      <th>1</th>\n",
       "      <td>0</td>\n",
       "      <td>0</td>\n",
       "      <td>0</td>\n",
       "      <td>0</td>\n",
       "      <td>0</td>\n",
       "      <td>0</td>\n",
       "      <td>0</td>\n",
       "      <td>0</td>\n",
       "      <td>1</td>\n",
       "      <td>0</td>\n",
       "      <td>...</td>\n",
       "      <td>0</td>\n",
       "      <td>0</td>\n",
       "      <td>0</td>\n",
       "      <td>0</td>\n",
       "      <td>0</td>\n",
       "      <td>0</td>\n",
       "      <td>0</td>\n",
       "      <td>0</td>\n",
       "      <td>0</td>\n",
       "      <td>0</td>\n",
       "    </tr>\n",
       "    <tr>\n",
       "      <th>2</th>\n",
       "      <td>0</td>\n",
       "      <td>0</td>\n",
       "      <td>0</td>\n",
       "      <td>0</td>\n",
       "      <td>0</td>\n",
       "      <td>0</td>\n",
       "      <td>0</td>\n",
       "      <td>0</td>\n",
       "      <td>0</td>\n",
       "      <td>0</td>\n",
       "      <td>...</td>\n",
       "      <td>0</td>\n",
       "      <td>0</td>\n",
       "      <td>0</td>\n",
       "      <td>0</td>\n",
       "      <td>0</td>\n",
       "      <td>0</td>\n",
       "      <td>0</td>\n",
       "      <td>0</td>\n",
       "      <td>0</td>\n",
       "      <td>0</td>\n",
       "    </tr>\n",
       "    <tr>\n",
       "      <th>3</th>\n",
       "      <td>0</td>\n",
       "      <td>0</td>\n",
       "      <td>0</td>\n",
       "      <td>0</td>\n",
       "      <td>0</td>\n",
       "      <td>0</td>\n",
       "      <td>0</td>\n",
       "      <td>0</td>\n",
       "      <td>0</td>\n",
       "      <td>0</td>\n",
       "      <td>...</td>\n",
       "      <td>0</td>\n",
       "      <td>0</td>\n",
       "      <td>0</td>\n",
       "      <td>0</td>\n",
       "      <td>0</td>\n",
       "      <td>0</td>\n",
       "      <td>1</td>\n",
       "      <td>0</td>\n",
       "      <td>0</td>\n",
       "      <td>0</td>\n",
       "    </tr>\n",
       "    <tr>\n",
       "      <th>4</th>\n",
       "      <td>0</td>\n",
       "      <td>1</td>\n",
       "      <td>0</td>\n",
       "      <td>0</td>\n",
       "      <td>0</td>\n",
       "      <td>0</td>\n",
       "      <td>0</td>\n",
       "      <td>0</td>\n",
       "      <td>0</td>\n",
       "      <td>0</td>\n",
       "      <td>...</td>\n",
       "      <td>0</td>\n",
       "      <td>0</td>\n",
       "      <td>0</td>\n",
       "      <td>0</td>\n",
       "      <td>0</td>\n",
       "      <td>0</td>\n",
       "      <td>0</td>\n",
       "      <td>0</td>\n",
       "      <td>0</td>\n",
       "      <td>0</td>\n",
       "    </tr>\n",
       "  </tbody>\n",
       "</table>\n",
       "<p>5 rows × 33 columns</p>\n",
       "</div>"
      ],
      "text/plain": [
       "   Barking and Dagenham  Barnet  Bexley  Brent  Bromley  Camden  \\\n",
       "0                     0       0       0      0        0       0   \n",
       "1                     0       0       0      0        0       0   \n",
       "2                     0       0       0      0        0       0   \n",
       "3                     0       0       0      0        0       0   \n",
       "4                     0       1       0      0        0       0   \n",
       "\n",
       "   City of London  Croydon  Ealing  Enfield  ...  Merton  Newham  Redbridge  \\\n",
       "0               0        0       0        0  ...       0       0          0   \n",
       "1               0        0       1        0  ...       0       0          0   \n",
       "2               0        0       0        0  ...       0       0          0   \n",
       "3               0        0       0        0  ...       0       0          0   \n",
       "4               0        0       0        0  ...       0       0          0   \n",
       "\n",
       "   Richmond upon Thames  Southwark  Sutton  Tower Hamlets  Waltham Forest  \\\n",
       "0                     0          0       0              0               0   \n",
       "1                     0          0       0              0               0   \n",
       "2                     0          0       0              0               0   \n",
       "3                     0          0       0              1               0   \n",
       "4                     0          0       0              0               0   \n",
       "\n",
       "   Wandsworth  Westminster  \n",
       "0           0            0  \n",
       "1           0            0  \n",
       "2           0            0  \n",
       "3           0            0  \n",
       "4           0            0  \n",
       "\n",
       "[5 rows x 33 columns]"
      ]
     },
     "execution_count": 12,
     "metadata": {},
     "output_type": "execute_result"
    }
   ],
   "source": [
    "neigh_dummies.head()"
   ]
  },
  {
   "cell_type": "code",
   "execution_count": 13,
   "metadata": {
    "id": "qdGPJ4tONfhJ"
   },
   "outputs": [],
   "source": [
    "## Genero las dummies para la variable room_type, dentro de la variable room_dummies.\n",
    "room_dummies  = pd.get_dummies(london['room_type'] )"
   ]
  },
  {
   "cell_type": "markdown",
   "metadata": {
    "id": "lDHhvq4_NfhJ"
   },
   "source": [
    "Imprimir las dimensiones y primeras lineas de estas dummies"
   ]
  },
  {
   "cell_type": "code",
   "execution_count": 14,
   "metadata": {
    "id": "ssP3nFUcNfhJ"
   },
   "outputs": [
    {
     "data": {
      "text/plain": [
       "(51827, 3)"
      ]
     },
     "execution_count": 14,
     "metadata": {},
     "output_type": "execute_result"
    }
   ],
   "source": [
    "room_dummies.shape"
   ]
  },
  {
   "cell_type": "code",
   "execution_count": 15,
   "metadata": {
    "id": "jmB-t-3hNfhK"
   },
   "outputs": [
    {
     "data": {
      "text/html": [
       "<div>\n",
       "<style scoped>\n",
       "    .dataframe tbody tr th:only-of-type {\n",
       "        vertical-align: middle;\n",
       "    }\n",
       "\n",
       "    .dataframe tbody tr th {\n",
       "        vertical-align: top;\n",
       "    }\n",
       "\n",
       "    .dataframe thead th {\n",
       "        text-align: right;\n",
       "    }\n",
       "</style>\n",
       "<table border=\"1\" class=\"dataframe\">\n",
       "  <thead>\n",
       "    <tr style=\"text-align: right;\">\n",
       "      <th></th>\n",
       "      <th>Entire home/apt</th>\n",
       "      <th>Private room</th>\n",
       "      <th>Shared room</th>\n",
       "    </tr>\n",
       "  </thead>\n",
       "  <tbody>\n",
       "    <tr>\n",
       "      <th>0</th>\n",
       "      <td>0</td>\n",
       "      <td>1</td>\n",
       "      <td>0</td>\n",
       "    </tr>\n",
       "    <tr>\n",
       "      <th>1</th>\n",
       "      <td>0</td>\n",
       "      <td>1</td>\n",
       "      <td>0</td>\n",
       "    </tr>\n",
       "    <tr>\n",
       "      <th>2</th>\n",
       "      <td>0</td>\n",
       "      <td>1</td>\n",
       "      <td>0</td>\n",
       "    </tr>\n",
       "    <tr>\n",
       "      <th>3</th>\n",
       "      <td>1</td>\n",
       "      <td>0</td>\n",
       "      <td>0</td>\n",
       "    </tr>\n",
       "    <tr>\n",
       "      <th>4</th>\n",
       "      <td>0</td>\n",
       "      <td>1</td>\n",
       "      <td>0</td>\n",
       "    </tr>\n",
       "  </tbody>\n",
       "</table>\n",
       "</div>"
      ],
      "text/plain": [
       "   Entire home/apt  Private room  Shared room\n",
       "0                0             1            0\n",
       "1                0             1            0\n",
       "2                0             1            0\n",
       "3                1             0            0\n",
       "4                0             1            0"
      ]
     },
     "execution_count": 15,
     "metadata": {},
     "output_type": "execute_result"
    }
   ],
   "source": [
    "room_dummies.head()"
   ]
  },
  {
   "cell_type": "markdown",
   "metadata": {
    "id": "c8CG_MEdkuX-"
   },
   "source": [
    "Joinear las variables dummies al dataset\n",
    "\n"
   ]
  },
  {
   "cell_type": "code",
   "execution_count": 16,
   "metadata": {
    "id": "3Q0w7z_uNfhK"
   },
   "outputs": [],
   "source": [
    "london = london.join(room_dummies)\n",
    "london = london.join(neigh_dummies)"
   ]
  },
  {
   "cell_type": "code",
   "execution_count": 17,
   "metadata": {},
   "outputs": [
    {
     "data": {
      "text/plain": [
       "(1800, 44)"
      ]
     },
     "execution_count": 17,
     "metadata": {},
     "output_type": "execute_result"
    }
   ],
   "source": [
    "## Reduzco la cantidad de muestras para que el Gridsearch a realizar en el objetivo 10 sea mas agil\n",
    "london = london.iloc[0:1800]\n",
    "np.shape(london)"
   ]
  },
  {
   "cell_type": "markdown",
   "metadata": {
    "id": "qjPPQtG6kuX_"
   },
   "source": [
    "##### Dividiremos nuestro dataset en la variable dependiente \"y\" (label o etiqueta) y las variables independientes \"x\""
   ]
  },
  {
   "cell_type": "code",
   "execution_count": 18,
   "metadata": {
    "id": "1TZWtiVTkuX_"
   },
   "outputs": [
    {
     "data": {
      "text/html": [
       "<div>\n",
       "<style scoped>\n",
       "    .dataframe tbody tr th:only-of-type {\n",
       "        vertical-align: middle;\n",
       "    }\n",
       "\n",
       "    .dataframe tbody tr th {\n",
       "        vertical-align: top;\n",
       "    }\n",
       "\n",
       "    .dataframe thead th {\n",
       "        text-align: right;\n",
       "    }\n",
       "</style>\n",
       "<table border=\"1\" class=\"dataframe\">\n",
       "  <thead>\n",
       "    <tr style=\"text-align: right;\">\n",
       "      <th></th>\n",
       "      <th>minimum_nights</th>\n",
       "      <th>number_of_reviews</th>\n",
       "      <th>reviews_per_month</th>\n",
       "      <th>calculated_host_listings_count</th>\n",
       "      <th>availability_365</th>\n",
       "      <th>Entire home/apt</th>\n",
       "      <th>Private room</th>\n",
       "      <th>Shared room</th>\n",
       "      <th>Barking and Dagenham</th>\n",
       "      <th>Barnet</th>\n",
       "      <th>...</th>\n",
       "      <th>Merton</th>\n",
       "      <th>Newham</th>\n",
       "      <th>Redbridge</th>\n",
       "      <th>Richmond upon Thames</th>\n",
       "      <th>Southwark</th>\n",
       "      <th>Sutton</th>\n",
       "      <th>Tower Hamlets</th>\n",
       "      <th>Waltham Forest</th>\n",
       "      <th>Wandsworth</th>\n",
       "      <th>Westminster</th>\n",
       "    </tr>\n",
       "  </thead>\n",
       "  <tbody>\n",
       "    <tr>\n",
       "      <th>0</th>\n",
       "      <td>1</td>\n",
       "      <td>131</td>\n",
       "      <td>1.71</td>\n",
       "      <td>4</td>\n",
       "      <td>262</td>\n",
       "      <td>0</td>\n",
       "      <td>1</td>\n",
       "      <td>0</td>\n",
       "      <td>0</td>\n",
       "      <td>0</td>\n",
       "      <td>...</td>\n",
       "      <td>0</td>\n",
       "      <td>0</td>\n",
       "      <td>0</td>\n",
       "      <td>0</td>\n",
       "      <td>0</td>\n",
       "      <td>0</td>\n",
       "      <td>0</td>\n",
       "      <td>0</td>\n",
       "      <td>0</td>\n",
       "      <td>0</td>\n",
       "    </tr>\n",
       "    <tr>\n",
       "      <th>1</th>\n",
       "      <td>2</td>\n",
       "      <td>2</td>\n",
       "      <td>0.07</td>\n",
       "      <td>6</td>\n",
       "      <td>62</td>\n",
       "      <td>0</td>\n",
       "      <td>1</td>\n",
       "      <td>0</td>\n",
       "      <td>0</td>\n",
       "      <td>0</td>\n",
       "      <td>...</td>\n",
       "      <td>0</td>\n",
       "      <td>0</td>\n",
       "      <td>0</td>\n",
       "      <td>0</td>\n",
       "      <td>0</td>\n",
       "      <td>0</td>\n",
       "      <td>0</td>\n",
       "      <td>0</td>\n",
       "      <td>0</td>\n",
       "      <td>0</td>\n",
       "    </tr>\n",
       "    <tr>\n",
       "      <th>2</th>\n",
       "      <td>1</td>\n",
       "      <td>14</td>\n",
       "      <td>0.14</td>\n",
       "      <td>2</td>\n",
       "      <td>364</td>\n",
       "      <td>0</td>\n",
       "      <td>1</td>\n",
       "      <td>0</td>\n",
       "      <td>0</td>\n",
       "      <td>0</td>\n",
       "      <td>...</td>\n",
       "      <td>0</td>\n",
       "      <td>0</td>\n",
       "      <td>0</td>\n",
       "      <td>0</td>\n",
       "      <td>0</td>\n",
       "      <td>0</td>\n",
       "      <td>0</td>\n",
       "      <td>0</td>\n",
       "      <td>0</td>\n",
       "      <td>0</td>\n",
       "    </tr>\n",
       "    <tr>\n",
       "      <th>3</th>\n",
       "      <td>5</td>\n",
       "      <td>7</td>\n",
       "      <td>0.07</td>\n",
       "      <td>56</td>\n",
       "      <td>295</td>\n",
       "      <td>1</td>\n",
       "      <td>0</td>\n",
       "      <td>0</td>\n",
       "      <td>0</td>\n",
       "      <td>0</td>\n",
       "      <td>...</td>\n",
       "      <td>0</td>\n",
       "      <td>0</td>\n",
       "      <td>0</td>\n",
       "      <td>0</td>\n",
       "      <td>0</td>\n",
       "      <td>0</td>\n",
       "      <td>1</td>\n",
       "      <td>0</td>\n",
       "      <td>0</td>\n",
       "      <td>0</td>\n",
       "    </tr>\n",
       "    <tr>\n",
       "      <th>4</th>\n",
       "      <td>5</td>\n",
       "      <td>114</td>\n",
       "      <td>1.13</td>\n",
       "      <td>3</td>\n",
       "      <td>285</td>\n",
       "      <td>0</td>\n",
       "      <td>1</td>\n",
       "      <td>0</td>\n",
       "      <td>0</td>\n",
       "      <td>1</td>\n",
       "      <td>...</td>\n",
       "      <td>0</td>\n",
       "      <td>0</td>\n",
       "      <td>0</td>\n",
       "      <td>0</td>\n",
       "      <td>0</td>\n",
       "      <td>0</td>\n",
       "      <td>0</td>\n",
       "      <td>0</td>\n",
       "      <td>0</td>\n",
       "      <td>0</td>\n",
       "    </tr>\n",
       "  </tbody>\n",
       "</table>\n",
       "<p>5 rows × 41 columns</p>\n",
       "</div>"
      ],
      "text/plain": [
       "   minimum_nights  number_of_reviews  reviews_per_month  \\\n",
       "0               1                131               1.71   \n",
       "1               2                  2               0.07   \n",
       "2               1                 14               0.14   \n",
       "3               5                  7               0.07   \n",
       "4               5                114               1.13   \n",
       "\n",
       "   calculated_host_listings_count  availability_365  Entire home/apt  \\\n",
       "0                               4               262                0   \n",
       "1                               6                62                0   \n",
       "2                               2               364                0   \n",
       "3                              56               295                1   \n",
       "4                               3               285                0   \n",
       "\n",
       "   Private room  Shared room  Barking and Dagenham  Barnet  ...  Merton  \\\n",
       "0             1            0                     0       0  ...       0   \n",
       "1             1            0                     0       0  ...       0   \n",
       "2             1            0                     0       0  ...       0   \n",
       "3             0            0                     0       0  ...       0   \n",
       "4             1            0                     0       1  ...       0   \n",
       "\n",
       "   Newham  Redbridge  Richmond upon Thames  Southwark  Sutton  Tower Hamlets  \\\n",
       "0       0          0                     0          0       0              0   \n",
       "1       0          0                     0          0       0              0   \n",
       "2       0          0                     0          0       0              0   \n",
       "3       0          0                     0          0       0              1   \n",
       "4       0          0                     0          0       0              0   \n",
       "\n",
       "   Waltham Forest  Wandsworth  Westminster  \n",
       "0               0           0            0  \n",
       "1               0           0            0  \n",
       "2               0           0            0  \n",
       "3               0           0            0  \n",
       "4               0           0            0  \n",
       "\n",
       "[5 rows x 41 columns]"
      ]
     },
     "execution_count": 18,
     "metadata": {},
     "output_type": "execute_result"
    }
   ],
   "source": [
    "## Divido el dataset como indica el objetivo\n",
    "## Dropeo de la variable \"x\" los contenidos que ya asigne a la variable \"y\" y las variables que transforme en dummies\n",
    "\n",
    "y = np.array(london[[\"price\"]])\n",
    "x = london.drop(['price', 'neighbourhood','room_type'], axis=1)\n",
    "x.head()"
   ]
  },
  {
   "cell_type": "markdown",
   "metadata": {
    "id": "s-2ujF5MkuYA"
   },
   "source": [
    "##### **Objetivo 7**\n",
    "\n",
    "Dividir el dataset entre Train y Test, tomar un test_size del 30%."
   ]
  },
  {
   "cell_type": "code",
   "execution_count": 19,
   "metadata": {
    "id": "SBepVVKIkuYA"
   },
   "outputs": [],
   "source": [
    "xtrain, xtest, ytrain, ytest = train_test_split(x, y, test_size=0.30)\n"
   ]
  },
  {
   "cell_type": "code",
   "execution_count": 20,
   "metadata": {},
   "outputs": [],
   "source": [
    "## Guardo de forma separada las variables dummies de las reales para no escalarlas ya que no seria correcto.\n",
    "\n",
    "xtrainr= xtrain.iloc[:,0:5]\n",
    "xtraind = xtrain.iloc[:,5:41]\n",
    "\n",
    "xtestr = xtest.iloc[:,0:5]\n",
    "xtestd = xtest.iloc[:,5:41]\n"
   ]
  },
  {
   "cell_type": "markdown",
   "metadata": {
    "id": "mfDnVu6hkuYB"
   },
   "source": [
    "##### **Objetivo 8**\n",
    "Con el StandardScaler generado en la linea siguiente, realizar el transform para el xtrain y xtest guardandolos en nuevas variables llamadas \"xtrain_scal\" y \"xtest_scal\".\n"
   ]
  },
  {
   "cell_type": "code",
   "execution_count": 21,
   "metadata": {
    "id": "QgDYMr1qNfhL"
   },
   "outputs": [],
   "source": [
    "## Realizo el transform a ambas variables \"xtrain_scal\" y \"xtest_scal\".\n",
    "\n",
    "scaler = preprocessing.StandardScaler().fit(xtrainr)"
   ]
  },
  {
   "cell_type": "code",
   "execution_count": 22,
   "metadata": {
    "id": "PTdTOdUANfhL"
   },
   "outputs": [],
   "source": [
    "xtrain_scal = scaler.transform(xtrainr)\n",
    "xtest_scal = scaler.transform(xtestr)"
   ]
  },
  {
   "cell_type": "code",
   "execution_count": 23,
   "metadata": {
    "scrolled": true
   },
   "outputs": [],
   "source": [
    "## Convierto las dummies a np.array para poder concatenarlas a los xtran y xtesx escalados\n",
    "\n",
    "arrayxtraind = xtraind.to_numpy(dtype = 'float64')\n",
    "arrayxtestd = xtestd.to_numpy(dtype = 'float64')"
   ]
  },
  {
   "cell_type": "code",
   "execution_count": 24,
   "metadata": {
    "scrolled": true
   },
   "outputs": [],
   "source": [
    "## Concateno las dummies con las variables ya escaladas\n",
    "\n",
    "xtrain_scal = np.concatenate((xtrain_scal, arrayxtraind), axis = 1)\n",
    "xtest_scal = np.concatenate((xtest_scal, arrayxtestd), axis = 1)"
   ]
  },
  {
   "cell_type": "markdown",
   "metadata": {
    "id": "_hkXK5_ckuYC"
   },
   "source": [
    "##### **Objetivo 9**\n",
    "Crear un modelo lineal y entrenarlo para nuestro dataset.\n",
    "\n",
    "Obtener las predicciones y el \"mean_squared_error\" para el test set."
   ]
  },
  {
   "cell_type": "code",
   "execution_count": 25,
   "metadata": {
    "id": "60x_-aowNfhM"
   },
   "outputs": [],
   "source": [
    "## Defino la funcion regresion lineal\n",
    "\n",
    "def lin_reg(x,y):\n",
    "    n, m = x.shape\n",
    "    I = np.identity(m)\n",
    "    w = np.dot(np.dot(np.linalg.inv(np.dot(x.T, x)), x.T), y)\n",
    "    return w"
   ]
  },
  {
   "cell_type": "code",
   "execution_count": 26,
   "metadata": {
    "id": "CNBZVUxjNfhM"
   },
   "outputs": [],
   "source": [
    "## Ejecuto la regresion lineal y guardo los pesos en \"weights_ols\"\n",
    "\n",
    "weights_ols = lin_reg(xtrain_scal,ytrain)"
   ]
  },
  {
   "cell_type": "code",
   "execution_count": 27,
   "metadata": {},
   "outputs": [],
   "source": [
    "## Genero las predicciones del modelo lineal\n",
    "y_pred = np.dot(xtest_scal, np.asarray(weights_ols))"
   ]
  },
  {
   "cell_type": "code",
   "execution_count": 28,
   "metadata": {
    "id": "P8am8EVokuYD"
   },
   "outputs": [
    {
     "name": "stdout",
     "output_type": "stream",
     "text": [
      "MSE de Regresion lineal= 60.43359136747821\n"
     ]
    }
   ],
   "source": [
    "## Calculo el MSE de la las predicciones obtenidas\n",
    "\n",
    "mse_lr = mean_squared_error(ytest, y_pred, squared = False)\n",
    "print('MSE de Regresion lineal=', mse_lr)"
   ]
  },
  {
   "cell_type": "markdown",
   "metadata": {
    "id": "yQpkINPIkuYD"
   },
   "source": [
    "##### **Objetivo 10**\n",
    "Crear un SVM Regressor y un GridSearch para realizar la búsqueda de hiperparámetros.\n",
    "\n",
    "Asignar dos posibles valores para el parámetro \"kernel\", y tres posibles valores para \"C\" y \"gamma\".\n",
    "\n",
    "Setear al parámetro \"refit\" en True y hacer 5 CrossValidation."
   ]
  },
  {
   "cell_type": "code",
   "execution_count": 29,
   "metadata": {
    "id": "cyh2r-iJNfhM"
   },
   "outputs": [
    {
     "name": "stdout",
     "output_type": "stream",
     "text": [
      "Fitting 5 folds for each of 18 candidates, totalling 90 fits\n"
     ]
    },
    {
     "data": {
      "text/plain": [
       "GridSearchCV(cv=5, estimator=SVR(),\n",
       "             param_grid={'C': [1, 10, 100], 'gamma': [0.1, 1, 10],\n",
       "                         'kernel': ('linear', 'rbf')},\n",
       "             verbose=True)"
      ]
     },
     "execution_count": 29,
     "metadata": {},
     "output_type": "execute_result"
    }
   ],
   "source": [
    "svreg = SVR()\n",
    "param_svreg = {'kernel':('linear', 'rbf'), 'C':[1, 10, 100 ], 'gamma':[ 0.1,1,10]}\n",
    "regressor_svr = GridSearchCV(svreg, param_svreg, cv=5, verbose=True, refit=True)\n",
    "regressor_svr.fit(xtrain_scal, ytrain.ravel())"
   ]
  },
  {
   "cell_type": "markdown",
   "metadata": {
    "id": "YOuBv_mfkuYG"
   },
   "source": [
    "##### **Objetivo 11**\n",
    "\n",
    "Mostrar cuales fueron los mejores hiperparámetros y para estos obtener el mean_squared_error en el test set."
   ]
  },
  {
   "cell_type": "code",
   "execution_count": 30,
   "metadata": {
    "id": "HHwCIS0mNfhN"
   },
   "outputs": [
    {
     "data": {
      "text/plain": [
       "{'C': 100, 'gamma': 0.1, 'kernel': 'rbf'}"
      ]
     },
     "execution_count": 30,
     "metadata": {},
     "output_type": "execute_result"
    }
   ],
   "source": [
    "## Observamos el mejor modelo y combinacion de hiperparametros que ganaron en el cross validation\n",
    "regressor_svr.best_params_"
   ]
  },
  {
   "cell_type": "code",
   "execution_count": 31,
   "metadata": {
    "id": "vlMZBccQNfhN"
   },
   "outputs": [],
   "source": [
    "## Genero predicciones con mi modelo entrenado para las muestras de Test, utilizando solo Xtest\n",
    "\n",
    "ypred2 = regressor_svr.predict(xtest_scal)"
   ]
  },
  {
   "cell_type": "code",
   "execution_count": 32,
   "metadata": {},
   "outputs": [
    {
     "name": "stdout",
     "output_type": "stream",
     "text": [
      "MSE de GridSearch1= 1202.6557964919132\n"
     ]
    }
   ],
   "source": [
    "## Calculo el MSE entre las predicciones generadas y el ytest\n",
    "mse_GS1 =mean_squared_error(ytest, ypred2)\n",
    "\n",
    "print('MSE de GridSearch1=', mse_GS1)"
   ]
  },
  {
   "cell_type": "markdown",
   "metadata": {
    "id": "IJQSlAT_kuYH"
   },
   "source": [
    "##### **Objetivo 12**\n",
    "Repetir el objetivo 10 pero ahora seteando nuevos valores para los hiperparámetros mencionados con el objetivo de mejorar las predicciones.\n",
    "\n",
    "Cuales son los mejores hiperparámetros ahora?\n",
    "Obtenemos una mejora en las predicciones?\n",
    "Mostrar los resultados."
   ]
  },
  {
   "cell_type": "code",
   "execution_count": 33,
   "metadata": {},
   "outputs": [
    {
     "name": "stdout",
     "output_type": "stream",
     "text": [
      "Fitting 5 folds for each of 18 candidates, totalling 90 fits\n"
     ]
    },
    {
     "data": {
      "text/plain": [
       "GridSearchCV(cv=5, estimator=SVR(),\n",
       "             param_grid={'C': [70, 100, 150], 'gamma': [0.01, 0.1, 0.5],\n",
       "                         'kernel': ('linear', 'rbf')},\n",
       "             verbose=True)"
      ]
     },
     "execution_count": 33,
     "metadata": {},
     "output_type": "execute_result"
    }
   ],
   "source": [
    "## Reasigno valores a los hiperparametros buscando optimizar los resultados\n",
    "\n",
    "svreg = SVR()\n",
    "param_svreg = {'kernel':('linear', 'rbf'), 'C':[70,100,150 ], 'gamma':[ 0.01,0.1,0.5]}\n",
    "regressor_svr = GridSearchCV(svreg, param_svreg, cv=5, verbose=True,refit=True)\n",
    "regressor_svr.fit(xtrain_scal, ytrain.ravel())"
   ]
  },
  {
   "cell_type": "code",
   "execution_count": 34,
   "metadata": {},
   "outputs": [
    {
     "data": {
      "text/plain": [
       "{'C': 70, 'gamma': 0.1, 'kernel': 'rbf'}"
      ]
     },
     "execution_count": 34,
     "metadata": {},
     "output_type": "execute_result"
    }
   ],
   "source": [
    "## Muestro los mejoros hiperparametros\n",
    "regressor_svr.best_params_"
   ]
  },
  {
   "cell_type": "code",
   "execution_count": 35,
   "metadata": {},
   "outputs": [
    {
     "data": {
      "text/plain": [
       "array([ 57.40625534, 111.38917095, 106.14928506, 157.22814724,\n",
       "        43.17309528,  29.13138602,  99.37967493,  96.31986572,\n",
       "        54.51759208,  59.74073777, 191.56003049,  54.18357896,\n",
       "        61.45996722,  93.95767918,  50.48904274,  89.05488297,\n",
       "       111.80574509,  89.41231334,  56.71341994,  39.75959324,\n",
       "       118.77447958,  88.27891538,  42.64746619,  90.39979017,\n",
       "        42.33356752,  45.86010849,  61.63104642,  92.7833065 ,\n",
       "        77.75433407, 124.73587784,  36.18712999,  63.62543519,\n",
       "        47.34483837,  88.64390865, 189.89423739,  60.0255146 ,\n",
       "        80.66599631, 146.9837722 ,  49.69360097,  94.86597852,\n",
       "       114.28238744,  46.20131038,  51.14215914,  79.53823866,\n",
       "        39.52509413,  86.53541402,  43.88781764,  57.9215061 ,\n",
       "        51.51637215,  57.3002361 ,  95.30010936, 103.9792458 ,\n",
       "       117.38594134,  49.70605953, 128.97992231,  65.61902416,\n",
       "        39.24467281, 111.43427199,  61.46879126,  97.96199488,\n",
       "       138.1298365 ,  34.61851297,  30.98427923,  47.70646614,\n",
       "        45.17717492,  48.69555252,  38.47626024,  35.98424898,\n",
       "       122.20273532, 196.32226215, 125.64268614,  50.31545253,\n",
       "        77.91022373,  50.21519126,  62.95596517, 107.03262057,\n",
       "       130.74895266,  28.11074728, 117.73265123,  33.48431201,\n",
       "       117.91719513,  35.68520678,  97.04929064,  89.2843681 ,\n",
       "        50.11166738, 100.69620657, 120.03335461,  36.00738203,\n",
       "        43.57397744,  84.9785516 ,  45.79025014, 195.88933217,\n",
       "        37.04070948, 126.45810052,  53.62657935,  36.4270904 ,\n",
       "        26.25279677,  31.76725684, 104.75138394,  51.60604643,\n",
       "        44.35037125,  40.91336261,  85.10531183, 102.78327431,\n",
       "        26.90177452,  42.61352818,  41.24617597,  57.60341146,\n",
       "        44.24959225,  24.19931571,  34.83904078,  97.29853773,\n",
       "        37.52978163, 111.60459891, 100.13498832, 171.23817988,\n",
       "        97.62477741, 113.71725957,  88.38007045,  87.36830723,\n",
       "        89.46922576,  53.69329567,  39.08056542,  83.36221587,\n",
       "       134.44784373,  90.93498496, 102.44110468,  40.42051078,\n",
       "        57.75624905,  36.41959895,  60.62951258, 104.34756769,\n",
       "        49.03921806,  57.75342385,  82.97563866,  29.33885324,\n",
       "        41.14258148, 154.34902328,  55.46556338, 113.96275237,\n",
       "       137.76004961, 137.65657357,  96.83818337, 104.76975846,\n",
       "       133.22152186, 115.86001258,  40.13375981,  52.21365371,\n",
       "        45.46318051, 148.37150222, 151.42393598, 149.97360217,\n",
       "       101.54750212,  92.32611155,  40.31820826,  50.6700671 ,\n",
       "        39.62534522,  35.70307327, 159.97405278, 104.27686526,\n",
       "       111.34020776,  31.23637947,  51.63802946, 126.5439985 ,\n",
       "        65.39210647, 115.11154941,  44.4649334 , 108.63327234,\n",
       "        32.69647667, 108.80055083, 118.64203347,  57.53140869,\n",
       "        86.94250727,  51.63335372,  34.18078249,  40.42256974,\n",
       "        79.83637052,  45.80723632,  87.77522383, 110.33313024,\n",
       "       109.14305552,  40.84227761,  89.37524325,  55.46563314,\n",
       "       123.13917749, 103.66558485, 111.93663414,  43.14496098,\n",
       "       109.96298236,  36.132485  , 133.32986694, 104.81667729,\n",
       "       127.94451689, 119.3140496 , 128.43141274,  47.20765633,\n",
       "        80.69131368,  46.28145626, 115.30059743,  51.4955148 ,\n",
       "        59.25734698,  46.4694302 , 104.60358372,  98.55694611,\n",
       "        46.41771723, 129.48315772, 122.96333174, 118.2764322 ,\n",
       "        51.28506586, 112.40158247,  42.87399586,  92.42323229,\n",
       "       105.70579098,  74.71521443,  35.16705938,  41.60417328,\n",
       "       110.99908094,  57.01599285,  52.22779314, 116.33887711,\n",
       "        48.12902467, 111.2058933 ,  15.60149385,  98.42659249,\n",
       "        50.22223951,  33.32163065,  91.47470185, 107.062169  ,\n",
       "        96.24771363, 120.18788048,  49.39588959,  57.9409273 ,\n",
       "        42.75045805,  89.63029725,  74.74742112,  91.78964675,\n",
       "        48.13768592,  55.63360854,  98.98807191, 162.58676619,\n",
       "        55.20858764,  90.21798134,  50.45506981, 126.28525937,\n",
       "        30.51444263, 128.96518987,  87.12804436, 124.4002064 ,\n",
       "       133.32896366,  45.09845817,  66.62372213,  53.23908271,\n",
       "        81.87676004,  34.32243254,  50.51021391,  77.30068395,\n",
       "        62.05835358, 123.67599238,  86.41796221,  47.79362756,\n",
       "        97.26753293, 151.88725603,  58.1497258 ,  34.49661912,\n",
       "        33.11690756,  82.27946356,  94.57806462,  42.45956934,\n",
       "        44.59790931,  70.06001105,  40.88853495, 171.39722706,\n",
       "       165.04820528,  69.62164229,  57.17429839,  52.78400848,\n",
       "       118.71583466,  45.19507906,  44.25206005, 103.44699533,\n",
       "        91.79094382, 153.55191245,  48.20915615,  46.91199853,\n",
       "       143.76806412,  26.1798088 ,  72.86233922,  83.50162762,\n",
       "        34.53795456, 105.15607674, 148.5086967 ,  89.56426704,\n",
       "       122.15901944, 105.87806087, 127.36376599,  52.92607042,\n",
       "        41.67666998,  97.44140416,  44.82806069, 113.86204536,\n",
       "       105.70306062,  49.00904264, 160.19852005,  46.22697635,\n",
       "        93.79526899,  34.85842686,  30.96471352,  27.81782753,\n",
       "       133.24831204,  35.3098138 ,  52.51782597, 113.45006512,\n",
       "        63.89711103,  47.52333646, 100.04829092,  88.91634974,\n",
       "        99.55169599, 142.73642947,  53.20702249, 143.49729739,\n",
       "        33.98020617,  50.72308604,  85.95029724, 100.03319715,\n",
       "       102.47028128,  90.0078014 ,  34.69689452,  31.34767159,\n",
       "        73.4977023 ,  42.27134782,  45.00520063, 113.41786607,\n",
       "       101.10208554,  61.19484668,  52.98697133,  48.3975532 ,\n",
       "        99.83222001, 111.21454601, 152.59285816,  45.18013805,\n",
       "        36.56845372,  94.12181226,  67.23177203, 112.48769412,\n",
       "        44.8069514 , 114.07911405,  97.23599984,  41.8717715 ,\n",
       "       108.93430839,  48.79794454, 179.77752157,  38.00861415,\n",
       "        29.79422519,  40.81866088, 107.84209641, 109.24376015,\n",
       "        95.88499488,  26.53318052,  33.64898041, 102.39468894,\n",
       "        43.21388291,  64.77994107, 105.57697677,  45.45043574,\n",
       "       115.48312519,  50.89412375,  91.28760386, 132.89422623,\n",
       "       111.07928122,  37.6337686 ,  48.74514617, 112.87252467,\n",
       "        38.40651554,  47.23840505, 115.09166144,  47.97856707,\n",
       "       103.72042812,  50.90032553,  61.73758533,  48.40432703,\n",
       "       151.01218471, 103.83411996, 122.96276761,  72.89610965,\n",
       "        45.59443359,  52.34188346,  62.14825995, 110.49966939,\n",
       "       109.8884184 ,  87.50475736,  39.96993458,  85.91507159,\n",
       "       125.78284491, 134.70020787, 125.24838383,  77.87010861,\n",
       "        38.55010926,  46.29202932,  27.34702312,  26.50382374,\n",
       "        47.97305701,  35.69673273,  50.89501385,  49.93096321,\n",
       "       124.7621037 ,  38.73121484, 130.89488139,  52.06448579,\n",
       "        57.01896516, 126.31243812, 117.77017878,  60.64032346,\n",
       "        42.7587512 ,  32.24320444,  46.31397192, 111.31053141,\n",
       "       113.24936921, 118.23961357,  75.32839797, 112.46399514,\n",
       "        83.70173861,  57.03373742, 115.20661601,  42.53137291,\n",
       "        98.63295365,  48.77663372,  22.95160507,  99.98546843,\n",
       "        72.59664057, 101.35357448,  37.92655436,  41.56006331,\n",
       "        40.91299393,  36.38262238, 134.84949251,  99.73131871,\n",
       "       142.5302973 ,  36.95988521, 105.95418015, 121.40979925,\n",
       "       139.52893927, 135.7504178 ,  44.00339652,  40.31151785,\n",
       "        50.63718875,  42.81664455,  54.0183635 ,  34.04758538,\n",
       "        84.47402401,  37.60259199,  54.49493124, 146.41360933,\n",
       "       109.8493864 ,  81.79300513,  35.24509638, 111.04148346,\n",
       "       105.0644366 ,  53.65662158, 174.07414792,  48.09503457,\n",
       "        51.08733501,  42.73812963,  80.56302705,  36.08687044,\n",
       "        39.71357113, 101.21708581,  86.78744186, 102.6456303 ,\n",
       "        39.90791359,  50.32931059,  91.03671094,  38.00444121,\n",
       "        52.34968747,  75.46824608,  39.56159558,  88.76536208,\n",
       "        39.37706392, 110.33213133,  34.10854572, 142.1155803 ,\n",
       "       103.48423981, 116.04776473,  92.40704239,  49.8365442 ,\n",
       "        33.63618722,  65.68588286, 109.67181524,  50.68463349,\n",
       "        34.04323197,  84.66145857,  97.05263357,  95.24253527,\n",
       "        82.34508014,  40.15963608,  37.99553211,  55.06390312,\n",
       "        52.70902473,  88.43053222,  35.30241328, 105.03612495,\n",
       "        62.13821305, 106.99747338, 100.4962329 ,  86.37599165,\n",
       "        55.47803357,  33.88192159,  98.46213798, 149.37758127,\n",
       "        84.67495812,  49.27555021,  41.89028956, 112.27274557,\n",
       "        92.31191428,  27.70363049, 104.63892661,  54.50472405,\n",
       "        81.82591188,  38.45581823, 105.12496522,  93.06382849,\n",
       "        97.87328253, 115.07483711, 118.63819947,  38.29110948,\n",
       "        44.54677488,  94.16156586,  43.13330996, 130.83576408,\n",
       "       102.66267366,  50.41350444,  41.76884914,  36.04049279,\n",
       "       190.0607174 ,  44.94901752, 117.23980098, 117.63262282,\n",
       "        44.89731105,  49.28198184,  48.02393621,  83.23385475])"
      ]
     },
     "execution_count": 35,
     "metadata": {},
     "output_type": "execute_result"
    }
   ],
   "source": [
    "## Genero las predicciones\n",
    "ypred3 = regressor_svr.predict(xtest_scal)\n",
    "ypred3"
   ]
  },
  {
   "cell_type": "code",
   "execution_count": 36,
   "metadata": {},
   "outputs": [
    {
     "name": "stdout",
     "output_type": "stream",
     "text": [
      "MSE de GridSearch2= 1190.3243802113725\n"
     ]
    }
   ],
   "source": [
    "## Calculo el MSE entre las predicciones generadas y el ytest\n",
    "\n",
    "mse_GS2 =mean_squared_error(ytest, ypred3)\n",
    "print('MSE de GridSearch2=', mse_GS2)\n"
   ]
  },
  {
   "cell_type": "code",
   "execution_count": 37,
   "metadata": {},
   "outputs": [
    {
     "name": "stdout",
     "output_type": "stream",
     "text": [
      "MSE de Regresion lineal= 60.43359136747821\n",
      "MSE de GridSearch1= 1202.6557964919132\n",
      "MSE de GridSearch2= 1190.3243802113725\n"
     ]
    }
   ],
   "source": [
    "## Resumen de los resultados\n",
    "\n",
    "print('MSE de Regresion lineal=', mse_lr)\n",
    "print('MSE de GridSearch1=', mse_GS1)\n",
    "print('MSE de GridSearch2=', mse_GS2)\n"
   ]
  },
  {
   "cell_type": "code",
   "execution_count": null,
   "metadata": {},
   "outputs": [],
   "source": [
    "## Conclusiones:\n",
    "## Se encontraron mejores hiperparametros en el 2do GridSeach.\n",
    "## El mejor modelo de prediccion resulto ser la regresion lineal, ya que tiene el MSE mas bajo."
   ]
  }
 ],
 "metadata": {
  "colab": {
   "provenance": []
  },
  "kernelspec": {
   "display_name": "Python 3 (ipykernel)",
   "language": "python",
   "name": "python3"
  },
  "language_info": {
   "codemirror_mode": {
    "name": "ipython",
    "version": 3
   },
   "file_extension": ".py",
   "mimetype": "text/x-python",
   "name": "python",
   "nbconvert_exporter": "python",
   "pygments_lexer": "ipython3",
   "version": "3.9.12"
  },
  "vscode": {
   "interpreter": {
    "hash": "c63d8c7d738c2960218a10995aedf0a7f67a49a231e71037adf0440953cdb45b"
   }
  }
 },
 "nbformat": 4,
 "nbformat_minor": 1
}
